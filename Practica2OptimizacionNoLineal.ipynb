{
  "nbformat": 4,
  "nbformat_minor": 0,
  "metadata": {
    "colab": {
      "name": "Practica2OptimizacionNoLineal.ipynb",
      "provenance": [],
      "collapsed_sections": []
    },
    "kernelspec": {
      "name": "python3",
      "display_name": "Python 3"
    },
    "language_info": {
      "name": "python"
    }
  },
  "cells": [
    {
      "cell_type": "markdown",
      "metadata": {
        "id": "qpFgFX9TpGWH"
      },
      "source": [
        "**AVANCE**\n",
        "\n",
        "* 1.\n",
        "  - a 15 puntos [x]\n",
        "  - b 15 puntos [x]\n",
        "  - c 15 puntos [x]\n",
        "  - d 15 puntos [x]\n",
        "  - e 15 puntos [x]\n",
        "\n",
        "\n",
        "* 2.\n",
        "Completado [x]\n",
        " \n",
        "* 3.\n",
        "Completado [x]"
      ]
    },
    {
      "cell_type": "markdown",
      "metadata": {
        "id": "j_aL0LP8w96r"
      },
      "source": [
        "# **Funciones**\n",
        "---"
      ]
    },
    {
      "cell_type": "code",
      "metadata": {
        "id": "nMG0VUhxpFzN"
      },
      "source": [
        "# librerias\n",
        "from math import sqrt\n",
        "from math import pow\n",
        "from math import e\n",
        "import numpy as np\n",
        "import matplotlib.pyplot as plt"
      ],
      "execution_count": 1,
      "outputs": []
    },
    {
      "cell_type": "markdown",
      "metadata": {
        "id": "-xrIbSMZAhjp"
      },
      "source": [
        "# **1**\n",
        "---\n",
        "1. Encuentre la solución optima al siguiente problema\n",
        "\n",
        "$$ max f(x) = \\frac{0.5}{\\sqrt{1+x{^2}}} - \\sqrt{1+x{^2}} \\ast \\left(1 - \\frac{0.5}{1+x{^2}} \\right) + x$$\n",
        "\n",
        "> Recordemos que en este caso buscamos el mínimo, por lo que es de mencionar que: \n",
        "$$\n",
        "min f(x) \\equiv max (-(f(x))\n",
        "$$\n"
      ]
    },
    {
      "cell_type": "code",
      "metadata": {
        "id": "eto4o6FSAF_u"
      },
      "source": [
        "evalF = 0\n",
        "evalF1 = 0\n",
        "def f(x:float) -> float:\n",
        "  global evalF\n",
        "  evalF += 1\n",
        "  #if x <= 0: \n",
        "    #return (10000)\n",
        "  #0.5/√(1+x^2) - √(1+x^2)*(1-(0.5/(1+x^2)))+x\n",
        "  return -((0.5/sqrt(1+x**2)) - sqrt(1+x**2)*(1-(0.5/(1+x**2)))+x)  \n",
        "\n",
        "\n",
        "def df(x:float) -> float:\n",
        "  global evalF1\n",
        "  evalF1 += 1\n",
        "  #((x^2 + 1)^(3/2) - x^3 - 2x ) / (x^2 + 1)^(3/2)\n",
        "  numerador = pow(((x**2) + 1), 3/2) - x**3 - 2*x\n",
        "  denominador = pow(((x**2)+1), 3/2)\n",
        "  return -(numerador/denominador)\n",
        "\n",
        "def df2(x:float) -> float:\n",
        "  #(x(^2) - 2) / (x^(2)+1)^(5/2)\n",
        "  numerador = (x**2) - 2\n",
        "  denominador = pow((x**2 + 1), 5/2)\n",
        "  return -(numerador/denominador)\n",
        "\n",
        "def dfd(x, delta):\n",
        "    numerador = f(x+delta) - f(x-delta)\n",
        "    denominador =  2*delta\n",
        "    \n",
        "    return (numerador/denominador)\n",
        "\n",
        "def df2d(x, delta):\n",
        "    numerador = f(x+delta) - (2*f(x)) + f(x-delta)\n",
        "    denominador = delta**2\n",
        "    \n",
        "    return (numerador/denominador)"
      ],
      "execution_count": 63,
      "outputs": []
    },
    {
      "cell_type": "markdown",
      "metadata": {
        "id": "AC6YY5eLxdBg"
      },
      "source": [
        "## 1 a) **Estimaciones cuadráticas sucesivas**\n",
        "---\n",
        "Utilizando el método de **Estimaciones Cuadráticas sucesivas**. \n",
        "La entrada será:\n",
        "$$\n",
        "  x_{0} = 0;  \\vartriangle = 0.1; \\epsilon_{1} = 0.0001\n",
        "$$\n",
        "Debe reportar el valor obtenido para $x^{*}$, $f(x{^2})$ y el número de evaluaciones de $f(x)$ que realizo el programa."
      ]
    },
    {
      "cell_type": "code",
      "metadata": {
        "id": "ePjoWzUMwwzF"
      },
      "source": [
        "def get_as(x1, x2, x3, f1, f2, f3): \n",
        "    #f1, f2, f3 = f(x1), f(x2), f(x3)\n",
        "    a0 = f1\n",
        "    a1 = (f2-f1)/(x2-x1)\n",
        "    a2 = (1/(x3-x2)) * ((f3-f1)/(x3-x1) - (f2-f1)/(x2-x1))\n",
        "    return (a0, a1, a2)\n",
        "\n",
        "def x_opt(x1, x2, a1, a2):\n",
        "    return (x1+x2)/2 - a1/(2*a2)\n",
        "    \n",
        "        \n",
        "def est_squared(x1, delta, epsilon):\n",
        "    \"\"\"\n",
        "    x1 = float, punto inicial\n",
        "    delta = float, incremento\n",
        "    epsilon = float, tolerancia\n",
        "    \"\"\"\n",
        "\n",
        "    x2 = x1 + delta\n",
        "    fx1 = f(x1)\n",
        "    fx2 = f(x2)\n",
        "    if fx1>fx2:\n",
        "        x3 = x1 + 2*delta\n",
        "    else: \n",
        "        x3 = x1 - delta\n",
        "    \n",
        "    # etiquetar tal que x1 < x2 < x3\n",
        "    tmp = list((x1,x2,x3))\n",
        "    tmp = sorted(tmp)\n",
        "    x1 = tmp[0]; x2 = tmp[1]; x3 = tmp[2]\n",
        "\n",
        "    f1, f2, f3 = f(x1), f(x2), f(x3)\n",
        "    \n",
        "    a0, a1, a2 = get_as(x1, x2, x3, f1, f2, f3)\n",
        "    xb = x_opt(x1, x2, a1, a2)\n",
        "    #f_b = f(xb)\n",
        "    x_min = x1\n",
        "    #f_min = f(x1)\n",
        "    \n",
        "    while True:\n",
        "        #print(xb, f_b)\n",
        "        \n",
        "        ############ calcular xb usando x1, x2 y x3\n",
        "        a0, a1, a2 = get_as(x1, x2, x3, f1, f2, f3)\n",
        "        xb = x_opt(x1, x2, a1, a2)    \n",
        "        f_b = f(xb)\n",
        "       \n",
        "\n",
        "        ######## Almacenar los tres mejores puntos y etiquetarlos\n",
        "        # tal que: x1 < x2 < x3\n",
        "       \n",
        "        tmp2 = [[x1, f1], [x2, f2], [x3, f3], [xb, f_b]]\n",
        "        tmp2 = sorted(tmp2, key=lambda x: x[1])\n",
        "        \n",
        "        \n",
        "        x1 = tmp2[0][0]; x2 = tmp2[1][0]; x3 = tmp2[2][0]\n",
        "        # guardar fs\n",
        "        f1 = tmp2[0][1]; f2 = tmp2[1][1]; f3 = tmp2[2][1]\n",
        "        \n",
        "        # constrain\n",
        "        if abs(xb-x_min)<epsilon:\n",
        "            break\n",
        "            #return (x_min, f(x_min))\n",
        "        \n",
        "            \n",
        "        # Determinar fmin y xmin \n",
        "        x_min = x1\n",
        "        \n",
        "    \n",
        "    p1 = \"{0:.3f}\".format(xb)\n",
        "    p2 = \"{0:.3f}\".format(f_b)\n",
        "    return (f\"({p1}, {p2})\\n{evalF-2}\")"
      ],
      "execution_count": 73,
      "outputs": []
    },
    {
      "cell_type": "code",
      "metadata": {
        "id": "q6g9HPQV0E4O",
        "colab": {
          "base_uri": "https://localhost:8080/"
        },
        "outputId": "3f2db416-aaec-410a-d862-39865244f364"
      },
      "source": [
        "x0, delta, eps = 0, 0.1, 0.0001\n",
        "x0 = float(x0)\n",
        "delt = float(delta)\n",
        "eps = float(eps)\n",
        "print(est_squared(x0, delt, eps))\n",
        "# Para que no haya problema con los contadores globales \n",
        "# a la hora de correr otras funciones que hagan uso del\n",
        "# mismo contador global\n",
        "# reiniciamos\n",
        "global evalF \n",
        "evalF = 0"
      ],
      "execution_count": 74,
      "outputs": [
        {
          "output_type": "stream",
          "text": [
            "(0.786, -0.300)\n",
            "12\n"
          ],
          "name": "stdout"
        }
      ]
    },
    {
      "cell_type": "markdown",
      "metadata": {
        "id": "AjOn1wgY1FTj"
      },
      "source": [
        "## 1 b) **Newton - Raphson**\n",
        "---\n",
        "Utilizando el método de Newton - Raphson. La entrada a su programa\n",
        "será: \n",
        "$$\n",
        "x_{0} = 0; \\epsilon_{1} = 0.0001\n",
        "$$\n",
        "Debera reportar el valor obtenido para $x{^*}$, $f(x{^*})$ y el número de evaluaciones de $f^{'}(x)$ que realizo el programa. Ademas debe incluir en su reporte el cálculo de la primer y segunda derivada. \n"
      ]
    },
    {
      "cell_type": "code",
      "metadata": {
        "id": "p5ZXJiU-1CnP"
      },
      "source": [
        "def newton_rapshon(x1, epsilon):\n",
        "    \"\"\"\n",
        "    x1 = float, punto inicial \n",
        "    epsilon = float, tolerancia\n",
        "    \"\"\"\n",
        "    k = 0\n",
        "    X = [x1]\n",
        "    \n",
        "    #while True:\n",
        "    while abs(df(X[k])) > epsilon:\n",
        "        tmp = X[k]-(df(X[k]) / df2(X[k]))\n",
        "        #print(tmp, f(tmp))\n",
        "        \n",
        "        X.append(tmp)\n",
        "        k = k+1\n",
        "       \n",
        "     \n",
        "    p1 = \"{0:.3f}\".format(X[k])\n",
        "    p2 = \"{0:.3f}\".format(f(X[k]))\n",
        "    return (f\"({p1},{p2})\\n{int(evalF1/2)}\")"
      ],
      "execution_count": 64,
      "outputs": []
    },
    {
      "cell_type": "code",
      "metadata": {
        "colab": {
          "base_uri": "https://localhost:8080/"
        },
        "id": "gnawJXcH0QHn",
        "outputId": "b64be7f8-6216-445f-83e9-85a33e2c6a68"
      },
      "source": [
        "x0, eps = 0, 0.0001\n",
        "x0 = float(x0)\n",
        "eps = float(eps)\n",
        "\n",
        "print(newton_rapshon(x0, eps))\n",
        "# Para que no haya problema con los contadores globales \n",
        "# a la hora de correr otras funciones que hagan uso del\n",
        "# mismo contador global\n",
        "# reiniciamos\n",
        "global evalF1 \n",
        "evalF1 = 0"
      ],
      "execution_count": 65,
      "outputs": [
        {
          "output_type": "stream",
          "text": [
            "(0.786,-0.300)\n",
            "5\n"
          ],
          "name": "stdout"
        }
      ]
    },
    {
      "cell_type": "markdown",
      "metadata": {
        "id": "28JXDtJP4On6"
      },
      "source": [
        "## 1 c) **Cuasi Newton**\n",
        "---\n",
        "Utilizando el método de Cuasi Newton. \n",
        "La entrada a su programa será: \n",
        "$$\n",
        "x_{0} = 0; \\epsilon_{1} = 0.0001; \\vartriangle = 0.01\n",
        "$$\n",
        "Debe reportar el valor obtenido para $x{^*}$, $f{^*}$ y el número \n",
        "de evaluaciones de $f(x)$ que realizo el programa\n",
        "\n"
      ]
    },
    {
      "cell_type": "code",
      "metadata": {
        "id": "L5em2Fms3hHE"
      },
      "source": [
        "def cuasi_newton(x0, epsilon, delta):\n",
        "    \"\"\"\n",
        "    x0 = float, punto inicial\n",
        "    delta = float, incremento\n",
        "    epsilon = float, tolerancia\n",
        "    \"\"\"\n",
        "    k = 0\n",
        "    X = [x0]\n",
        "    \n",
        "    #while True:\n",
        "    #con = 0\n",
        "    while abs(dfd(X[k], delta)) > epsilon:\n",
        "        tmp = X[k]-(dfd(X[k], delta) / df2d(X[k], delta))\n",
        "        #print(tmp, f(tmp))\n",
        "        #break\n",
        "        X.append(tmp)\n",
        "        k = k+1\n",
        "        \n",
        "     \n",
        "    p1 = \"{0:.3f}\".format(X[k])\n",
        "    p2 = \"{0:.3f}\".format(f(X[k]))\n",
        "    evalf = (3*k + 3)\n",
        "    #print(evalf)\n",
        "    #int(evalF/2)-1\n",
        "    return (f\"({p1},{p2})\\n{evalf}\")\n",
        "\n"
      ],
      "execution_count": 66,
      "outputs": []
    },
    {
      "cell_type": "code",
      "metadata": {
        "colab": {
          "base_uri": "https://localhost:8080/"
        },
        "id": "93Kg8Iwe5kzM",
        "outputId": "2f2792fb-c062-4860-870a-ba1b17c1ab91"
      },
      "source": [
        "x0, eps, delta = 0, 0.0001, 0.01\n",
        "x0 = float(x0)\n",
        "eps = float(eps)\n",
        "delta = float(delta)\n",
        "print(cuasi_newton(x0, eps, delta))"
      ],
      "execution_count": 67,
      "outputs": [
        {
          "output_type": "stream",
          "text": [
            "(0.786,-0.300)\n",
            "18\n"
          ],
          "name": "stdout"
        }
      ]
    },
    {
      "cell_type": "markdown",
      "metadata": {
        "id": "AxnrUQoYEPOo"
      },
      "source": [
        "## 1 d) **Bisección**\n",
        "---\n",
        "Utilizando el método de bisección. La entrada a su pograma será: \n",
        "$$\n",
        "a = 0; b = 5; \\epsilon_{1} = 0.0001 \n",
        "$$\n",
        "Debe reportar el valor obtenido para $x^{*}$, $f(x{^*})$ y el número de \n",
        "evaluaciones de $f^{'}(x)$ que realizo el programa. \n"
      ]
    },
    {
      "cell_type": "code",
      "metadata": {
        "id": "Pc8toULi53bo"
      },
      "source": [
        "def bisecciones(a,b,eps):\n",
        "    \"\"\" \n",
        "    a y b = float, puntos\n",
        "    eps = float, tolerancia\n",
        "    \"\"\"\n",
        "    z = (a+b)/2\n",
        "    while abs(df(z)) > eps:\n",
        "        #print(z, f(z))\n",
        "        if df(z) < 0: \n",
        "            a = z\n",
        "        else: \n",
        "            b = z\n",
        "            \n",
        "        z = (a+b)/2\n",
        "        \n",
        "    p1 = \"{0:.3f}\".format(z)\n",
        "    p2 = \"{0:.3f}\".format(f(z))\n",
        "    return (f\"({p1},{p2})\\n{int((evalF1+3)/2)}\")\n"
      ],
      "execution_count": 68,
      "outputs": []
    },
    {
      "cell_type": "code",
      "metadata": {
        "colab": {
          "base_uri": "https://localhost:8080/"
        },
        "id": "out1lBF6FNly",
        "outputId": "27de5f1d-d1c6-4c6e-b4aa-7cceb7b7c70a"
      },
      "source": [
        "a,b,eps = 0, 5, 0.0001\n",
        "a = float(a)\n",
        "b = float(b)\n",
        "eps = float(eps)\n",
        "print(df(a), df(b))\n",
        "if df(a) <= 0 and df(b) >= 0:\n",
        "  print(bisecciones(a,b,eps))\n",
        "  global evalF1 \n",
        "  evalF1 = 0\n",
        "else:\n",
        "  print(\"Error\")"
      ],
      "execution_count": 69,
      "outputs": [
        {
          "output_type": "stream",
          "text": [
            "-1.0 0.018295317063647898\n",
            "(0.786,-0.300)\n",
            "13\n"
          ],
          "name": "stdout"
        }
      ]
    },
    {
      "cell_type": "markdown",
      "metadata": {
        "id": "X-Hce3qGGSPb"
      },
      "source": [
        "## 1 e) **Secante**\n",
        "---\n",
        "Utilizando el método de la secante. La entrada a su programa será: \n",
        "$$\n",
        "a = 0; b = 5; \\epsilon_{1} = 0.0001\n",
        "$$\n",
        "Debe reportar el valor obtenido para $x^{*}$, $f(x{^*})$ y el número de \n",
        "evaluaciones de $f^{'}(x)$ que realizo el programa. "
      ]
    },
    {
      "cell_type": "code",
      "metadata": {
        "id": "T-Bt5LY7Fr7w"
      },
      "source": [
        "def secante(x_L, x_R, eps): \n",
        "    \"\"\"\n",
        "    xL, xR = float, puntos\n",
        "    eps = float, tolerancia\n",
        "    \"\"\"\n",
        "    dfR = df(x_R)\n",
        "    dfL = df(x_L)\n",
        "    \n",
        "    if (dfL*dfR) >= 0:\n",
        "        return(\"Error\")\n",
        "    \n",
        "    z = x_R - ((dfR*(x_R - x_L)) / (dfR-dfL))\n",
        "    dfZ = df(z)\n",
        "    while abs(dfZ) > eps:\n",
        "      \n",
        "        if dfZ < 0: \n",
        "            x_L = z\n",
        "            dfL = dfZ\n",
        "            \n",
        "        else: \n",
        "            x_R = z\n",
        "            dfR = dfZ\n",
        "            \n",
        "        \n",
        "        z = x_R - ( (dfR*(x_R - x_L)) / (dfR-dfL))\n",
        "        dfZ = df(z)        \n",
        "        \n",
        "    p1 = \"{0:.3f}\".format(z)\n",
        "    p2 = \"{0:.3f}\".format(f(z))\n",
        "    return (f\"({p1},{p2})\\n{evalF}\")\n"
      ],
      "execution_count": 70,
      "outputs": []
    },
    {
      "cell_type": "code",
      "metadata": {
        "colab": {
          "base_uri": "https://localhost:8080/"
        },
        "id": "AKMf-2kiG3cS",
        "outputId": "707e671f-1ba3-4803-ec8c-c195315d938e"
      },
      "source": [
        "xL, xR, eps = 0, 5, 0.0001\n",
        "xL = float(xL)\n",
        "xR = float(xR)\n",
        "eps = float(eps)\n",
        "print(secante(xL, xR, eps))\n",
        "global evalF\n",
        "evalF = 0"
      ],
      "execution_count": 72,
      "outputs": [
        {
          "output_type": "stream",
          "text": [
            "(0.786,-0.300)\n",
            "1\n"
          ],
          "name": "stdout"
        }
      ]
    },
    {
      "cell_type": "markdown",
      "metadata": {
        "id": "P088yDugY5Pq"
      },
      "source": [
        "# 2. \n",
        "---\n",
        "Gráfique la función $f(x)$, en el intervalo $[x{^*}-1, x{^*}+1]$"
      ]
    },
    {
      "cell_type": "code",
      "metadata": {
        "id": "abGouCCcG-ia",
        "colab": {
          "base_uri": "https://localhost:8080/",
          "height": 310
        },
        "outputId": "ccbcd467-f3d2-44d7-fe02-4120eff267c6"
      },
      "source": [
        "# tomamos los intervalos que nos regresaron los métodos previamente \n",
        "#x_start = np.arange(0.300, 0.786, 0.0001) \n",
        "x_start = np.arange((0.786-1), (0.786+1), 0.0001) \n",
        "\n",
        "y = [f(i) for i in x_start]\n",
        "#print(x_start, y)\n",
        "plt.plot(x_start,y)\n",
        "plt.xlabel('x')\n",
        "plt.ylabel('y')\n",
        "plt.grid()\n",
        "plt.title('Gráfica de la función\\nf (x)')\n",
        "plt.show()"
      ],
      "execution_count": null,
      "outputs": [
        {
          "output_type": "display_data",
          "data": {
            "image/png": "[encoded data removed]",
            "text/plain": [
              "<Figure size 432x288 with 1 Axes>"
            ]
          },
          "metadata": {
            "tags": [],
            "needs_background": "light"
          }
        }
      ]
    },
    {
      "cell_type": "markdown",
      "metadata": {
        "id": "4cKiZkxn0Exp"
      },
      "source": [
        "![grafica.png](data:image/png;base64,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)"
      ]
    },
    {
      "cell_type": "markdown",
      "metadata": {
        "id": "AT4DUGJe0mJL"
      },
      "source": [
        "# 3.\n",
        "---\n",
        "Utilice el método de su preferencia para resolver el siguiente problema: \n",
        "$$\n",
        "min g(x) = e{^x} - x{^3}\n",
        "$$\n",
        "Indique los parámetros de entrada que utilizó y grafique la función \n",
        "$g(x)$ en un intervalo que contenga a la solución óptima\n"
      ]
    },
    {
      "cell_type": "code",
      "metadata": {
        "id": "qP6vY2G-0qgH"
      },
      "source": [
        "# Función\n",
        "def g(x):\n",
        "  return ((e**x) - (x**3))"
      ],
      "execution_count": 79,
      "outputs": []
    },
    {
      "cell_type": "markdown",
      "metadata": {
        "id": "pUDa-Vg43RkE"
      },
      "source": [
        "Gráficamos la función para observar su comportamiento"
      ]
    },
    {
      "cell_type": "code",
      "metadata": {
        "colab": {
          "base_uri": "https://localhost:8080/",
          "height": 310
        },
        "id": "-Vf_03vi2k3B",
        "outputId": "b564f3fa-3a87-4dbc-ddcd-751614d55b4b"
      },
      "source": [
        "# Graficamos para ver cómo se comporta la grááfica\n",
        "x = np.arange(-3.5, 5.5, 0.0001) \n",
        "\n",
        "y = [g(i) for i in x]\n",
        "#print(x_start, y)\n",
        "plt.plot(x,y)\n",
        "plt.xlabel('x')\n",
        "plt.ylabel('y')\n",
        "plt.grid()\n",
        "plt.title('Gráfica de la función\\ng (x)')\n",
        "plt.show()"
      ],
      "execution_count": 80,
      "outputs": [
        {
          "output_type": "display_data",
          "data": {
            "image/png": "[encoded data removed]",
            "text/plain": [
              "<Figure size 432x288 with 1 Axes>"
            ]
          },
          "metadata": {
            "tags": [],
            "needs_background": "light"
          }
        }
      ]
    },
    {
      "cell_type": "markdown",
      "metadata": {
        "id": "iEfRoxEA4r34"
      },
      "source": [
        "![gx.png](data:image/png;base64,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)"
      ]
    },
    {
      "cell_type": "markdown",
      "metadata": {
        "id": "1DDqyEll5hhF"
      },
      "source": [
        "Observamos que nuestro míínimo global se encuentra en el intervalo [2, 4]\n",
        "> Haremos uso del método de newton-rhapson para encontrar el optimo \n",
        "\n",
        "> Recordemos que en este caso buscamos el mínimo, por lo que es de mencionar que: \n",
        "$$\n",
        "min f(x) \\equiv max (-(f(x))\n",
        "$$\n",
        "\n",
        "Pero no importa mucho dado que todos estos métodos son de minimización\n"
      ]
    },
    {
      "cell_type": "code",
      "metadata": {
        "id": "GlHVD5iW2yhT"
      },
      "source": [
        "evalF2 = 0\n",
        "def dg(x:float) -> float:\n",
        "  global evalF2\n",
        "  evalF2 += 1\n",
        "  \n",
        "  # e^x - 3x^2\n",
        "  return ((e**x)-3*(x**2))\n",
        "  \n",
        "def dg2(x:float) -> float:\n",
        "  # e^x - 6x\n",
        "  return ((e**x)-6*x)\n",
        "  \n",
        "def newton_rapshonG(x1, epsilon):\n",
        "    \"\"\"\n",
        "    x1 = float, punto inicial \n",
        "    epsilon = float, tolerancia\n",
        "    \"\"\"\n",
        "    k = 0\n",
        "    X = [x1]\n",
        "    \n",
        "    #while True:\n",
        "    while abs(dg(X[k])) > epsilon:\n",
        "        tmp = X[k]-(dg(X[k]) / dg2(X[k]))\n",
        "        #print(tmp, f(tmp))\n",
        "        \n",
        "        X.append(tmp)\n",
        "        k = k+1\n",
        "       \n",
        "     \n",
        "    p1 = \"{0:.3f}\".format(X[k])\n",
        "    p2 = \"{0:.3f}\".format(g(X[k]))\n",
        "    \n",
        "    return (f\"({p1},{p2})\\n{int(evalF2/2)}\")"
      ],
      "execution_count": 81,
      "outputs": []
    },
    {
      "cell_type": "code",
      "metadata": {
        "colab": {
          "base_uri": "https://localhost:8080/"
        },
        "id": "pmMDlbLn8M57",
        "outputId": "5b0d670c-173e-4ccc-fb45-e72a4a8c7fc4"
      },
      "source": [
        "x0, eps = 3, 0.001\n",
        "x0 = float(x0)\n",
        "eps = float(eps)\n",
        "\n",
        "print(newton_rapshonG(x0, eps))\n",
        "# Para que no haya problema con los contadores globales \n",
        "# a la hora de correr otras funciones que hagan uso del\n",
        "# mismo contador global\n",
        "# reiniciamos\n",
        "global evalF2 \n",
        "evalF2 = 0"
      ],
      "execution_count": 82,
      "outputs": [
        {
          "output_type": "stream",
          "text": [
            "(3.733,-10.216)\n",
            "8\n"
          ],
          "name": "stdout"
        }
      ]
    },
    {
      "cell_type": "markdown",
      "metadata": {
        "id": "H-NnLAYNKsD5"
      },
      "source": [
        "El punto inicial que le pasemos importa para encontrar nuestro mínimo global, si le pasamos un punto menor a 2.9, obtendremos un mínimo local.\n",
        "Pero si pasamos un punto mayor o igual a 2.9, obtendremos el mínimo global"
      ]
    },
    {
      "cell_type": "markdown",
      "metadata": {
        "id": "e-ncNN2-B72M"
      },
      "source": [
        "Graficamos el intervalo dónde se tiene la solución óptima \n"
      ]
    },
    {
      "cell_type": "code",
      "metadata": {
        "colab": {
          "base_uri": "https://localhost:8080/",
          "height": 310
        },
        "id": "agnUNcth8eTD",
        "outputId": "c1e71bff-7972-4da5-be76-b1c858fcc748"
      },
      "source": [
        "x = np.arange(1.5, 4.5, 0.0001) \n",
        "\n",
        "y = [g(i) for i in x]\n",
        "#print(x_start, y)\n",
        "plt.plot(x,y, 3.733, -10.216, \"ro\")\n",
        "plt.xlabel('x')\n",
        "plt.ylabel('y')\n",
        "plt.grid()\n",
        "plt.title('Gráfica de la función\\ng (x)')\n",
        "plt.show()"
      ],
      "execution_count": 83,
      "outputs": [
        {
          "output_type": "display_data",
          "data": {
            "image/png": "[encoded data removed]",
            "text/plain": [
              "<Figure size 432x288 with 1 Axes>"
            ]
          },
          "metadata": {
            "tags": [],
            "needs_background": "light"
          }
        }
      ]
    }
  ]
}