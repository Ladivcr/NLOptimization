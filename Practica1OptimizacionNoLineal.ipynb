{
  "nbformat": 4,
  "nbformat_minor": 0,
  "metadata": {
    "colab": {
      "name": "Practica1OptimizacionNoLineal.ipynb",
      "provenance": [],
      "collapsed_sections": [],
      "toc_visible": true
    },
    "kernelspec": {
      "name": "python3",
      "display_name": "Python 3"
    }
  },
  "cells": [
    {
      "cell_type": "markdown",
      "metadata": {
        "id": "Qxn4lsYIWoI_"
      },
      "source": [
        "# Avance \n",
        "---\n",
        "$[X] Ejeo 1$ \n",
        "\n",
        "$[X] Ejeo 2$\n",
        "\n",
        "$[X] Ejeo 3$\n",
        "\n",
        "$[X] Ejeo 4$"
      ]
    },
    {
      "cell_type": "markdown",
      "metadata": {
        "id": "VcLrKlP7egkr"
      },
      "source": [
        "# Librerias\n"
      ]
    },
    {
      "cell_type": "code",
      "metadata": {
        "id": "wloUQ9p-efD8"
      },
      "source": [
        "from math import atan\n",
        "import math\n",
        "from math import ceil\n",
        "import matplotlib.pyplot as plt\n",
        "import numpy as np\n",
        "from random import randint"
      ],
      "execution_count": 6,
      "outputs": []
    },
    {
      "cell_type": "markdown",
      "metadata": {
        "id": "sYXW-KqLnjJn"
      },
      "source": [
        "### **Función de trabajo**"
      ]
    },
    {
      "cell_type": "code",
      "metadata": {
        "id": "IDlPof1umbgf"
      },
      "source": [
        "# cambie ha global evalF\n",
        "a = 0\n",
        "b = 3\n",
        "epsilon = 0.001\n",
        "evalF = 0"
      ],
      "execution_count": 7,
      "outputs": []
    },
    {
      "cell_type": "code",
      "metadata": {
        "id": "FMi6c32uS2Qx"
      },
      "source": [
        "def f(x):\n",
        "  global evalF\n",
        "  evalF += 1\n",
        "  func = 0.65-(0.75/(1+x**2))-0.65*x*(atan(1/x))\n",
        "  return(func)"
      ],
      "execution_count": 8,
      "outputs": []
    },
    {
      "cell_type": "markdown",
      "metadata": {
        "id": "EiPOxLTa-aVf"
      },
      "source": [
        "# **Búsqueda Exhaustiva**\n"
      ]
    },
    {
      "cell_type": "code",
      "metadata": {
        "id": "HsrV-B9P-ekJ"
      },
      "source": [
        "# Búsqueda exhaustiva\n",
        "def busqueda_exhaustiva(a, b, n):\n",
        "    \"\"\"\n",
        "    a = int||float Inicio del intervalo\n",
        "    b = int||float Fin del intervalo\n",
        "    n = int||float Numero de divisiones\n",
        "    return: intervals and total evaluations\n",
        "    \"\"\" \n",
        "    # Ocurre error de divisióón por cero debido a que se calcula f(x1) y x1 = a y a = 0\n",
        "    # por eso añadi 0.001\n",
        "    X1 = a\n",
        "    Ax = (b-a)/n\n",
        "    X2 = X1 + Ax\n",
        "    X3 = X2 + Ax\n",
        "    #evalF = 0\n",
        "    #############################\n",
        "    # He añadido esta linea para saltarme el cero inicial\n",
        "    X1 = X2; X2 = X3; X3 = X2+Ax\n",
        "    #################################\n",
        "    \n",
        "    f1 = f(X1)\n",
        "    f2 = f(X2) \n",
        "    f3 = f(X3)\n",
        "    # y esta linea, que basicamente es para saltarme la evaluación en cero\n",
        "    # ya que la función ahíí no esta definida\n",
        "    #f1 = f2; f2 = f3; f3 = f(X3)\n",
        "    while X3 <= b:\n",
        "        if X1 != 0 and X2 != 0 and X3 != 0:\n",
        "            if (f1>=f2 and f2<=f3):\n",
        "                #X1 = round(X1, 3); X3 = round(X3, 3) # Si redondeo así, se come el último decimal si es 0\n",
        "            \n",
        "                x1 = \"{0:.3f}\".format(X1)\n",
        "                x3 =  \"{0:.3f}\".format(X3)\n",
        "                #result = (x1[:], x3[:]) # Me imprime con ' '\n",
        "                evalFF = ceil(((float(x3)-a)/Ax)+0.1)\n",
        "                return (f\"({x1},{x3})\\n{(evalF)}\")\n",
        "            \n",
        "        else:\n",
        "            X1 = X2\n",
        "            X2 = X3\n",
        "            X3 = X2+Ax\n",
        "            \n",
        "\n",
        "        #print(X1, X2, X3)  \n",
        "        X1 = X2; X2 = X3; X3 = X2+Ax\n",
        "        f1 = f2; f2 = f3; f3 = f(X3)\n",
        "        \n",
        "    return (\"No existe un mínimo en (a, b), o un punto extremo (a ó b) es el mínimo\")"
      ],
      "execution_count": 9,
      "outputs": []
    },
    {
      "cell_type": "markdown",
      "metadata": {
        "id": "iOhlxE92-6Hs"
      },
      "source": [
        "# **División de intervalos por la mitad**"
      ]
    },
    {
      "cell_type": "code",
      "metadata": {
        "id": "Cd21vZZH-wrv"
      },
      "source": [
        "# División de intervalos por la mitad\n",
        "def div_intervalos(a,b,epsilon):\n",
        "    \"\"\"\n",
        "    a = int||float Inicio del intervalo\n",
        "    b = int||float Fin del intervalo\n",
        "    epsilon = float tolerancia\n",
        "    return: intervals and total evaluations\n",
        "    \"\"\" \n",
        "    Xm = (a+b)/2\n",
        "    L = b-a\n",
        "    Iter = 0\n",
        "    while abs(L)>epsilon: \n",
        "        X1 = a+L/4\n",
        "        X2 = b-L/4\n",
        "        Iter+= 1\n",
        "        if f(X1)<f(Xm): \n",
        "            b = Xm \n",
        "            Xm = X1\n",
        "        else: \n",
        "            if f(X2)<f(Xm): \n",
        "                a = Xm \n",
        "                Xm = X2\n",
        "            else: \n",
        "                a = X1 \n",
        "                b = X2\n",
        "        L = b-a\n",
        "        \n",
        "\n",
        "        \n",
        "    A = \"{0:.3f}\".format(a)\n",
        "    B =  \"{0:.3f}\".format(b)\n",
        "    #result = (x1[:], x3[:]) # Me imprime con ' '\n",
        "    evalFF = 3+(2*Iter-2)\n",
        "    # Las tres evaluaciones del inicio más las dos que hace en cada iteración \n",
        "    # y el -2 es para contrarrestar el error (funciono en hackerrank)\n",
        "    return (f\"({A},{B})\\n{evalFF}\")"
      ],
      "execution_count": 10,
      "outputs": []
    },
    {
      "cell_type": "markdown",
      "metadata": {
        "id": "0hiuYKTf-seB"
      },
      "source": [
        "# **Búsqueda Fibonacci**"
      ]
    },
    {
      "cell_type": "code",
      "metadata": {
        "id": "StKKM8Xs-ucK"
      },
      "source": [
        "# Búsqueda de Fibonacci\n",
        "def fibonacci_dinamico(n, memo={0:1, 1:1}):\n",
        "    \"\"\"fibonacci eficiente\n",
        "    n int numero fibonacci a calcular\n",
        "    memo dict diccionario para la memoization\n",
        "    \"\"\"\n",
        "    if n == 1 or n == 2: \n",
        "        return 1\n",
        "\n",
        "    try:\n",
        "        return memo[n]\n",
        "    except KeyError: \n",
        "        resultado = fibonacci_dinamico(n-1, memo) + fibonacci_dinamico(n-2, memo)\n",
        "        memo[n] = resultado \n",
        "        #print(memo.values())\n",
        "        return (resultado)\n",
        "\n",
        "def search_fib(a,b,n):\n",
        "    \"\"\"\n",
        "    a = int||float Inicio del intervalo\n",
        "    b = int||float Fin del intervalo\n",
        "    n = int último elemento de la sucesión de Fibonacci que va a utilizar el algoritmo\n",
        "    return: intervals and total evaluations\n",
        "    \"\"\" \n",
        "    L = (b-a)\n",
        "    k = 2\n",
        "    conteo = 1\n",
        "    while k <= n:\n",
        "        \n",
        "        #Lk_start = (F[n-k]/F[n])*L\n",
        "        Lk_start = (fibonacci_dinamico((n+1)-k)/fibonacci_dinamico(n+1))*L\n",
        "        X1 = a+Lk_start; X2 = b-Lk_start\n",
        "        \n",
        "        if f(X1)    > f(X2): \n",
        "            a = X1\n",
        "        else: \n",
        "            b = X2\n",
        "            \n",
        "        #print(a,b)\n",
        "        # Recordemos que en cada iteración se repite un número de fibonacci \n",
        "        # por lo que al evaluar dos veces la función podemos contarla\n",
        "        # como una\n",
        "        conteo += 1\n",
        "        k += 1\n",
        "        \n",
        "    A = \"{0:.3f}\".format(a)\n",
        "    B =  \"{0:.3f}\".format(b)\n",
        "    evalFF = conteo \n",
        "    return (f\"({A},{B})\\n{evalFF}\")"
      ],
      "execution_count": 11,
      "outputs": []
    },
    {
      "cell_type": "markdown",
      "metadata": {
        "id": "pi8QXKni_XdE"
      },
      "source": [
        "# **Sección dorada**"
      ]
    },
    {
      "cell_type": "code",
      "metadata": {
        "id": "lig772OX-9Ah"
      },
      "source": [
        "# Sección dorada\n",
        "def normalizer(w, a, b): \n",
        "    return (w*(b-a)+a)\n",
        "\n",
        "def sec_dorada(a,b,epsilon):\n",
        "    \"\"\"\n",
        "    a = int||float Inicio del intervalo\n",
        "    b = int||float Fin del intervalo\n",
        "    epsilon = float tolerancia\n",
        "    return: intervals and total evaluations\n",
        "    \"\"\"\n",
        "    #x = randint(a, b)\n",
        "    #x = normalizer(x, a, b)\n",
        "    \n",
        "    aw = 0; bw = 1; Lw = 1\n",
        "    conteo = 1\n",
        "    while Lw > (epsilon/(b-a)):\n",
        "        w1 = round(aw + 0.618*Lw, 10)\n",
        "        w2 = round(bw - 0.618*Lw, 10)\n",
        "        #print(w1, w2)\n",
        "        W1 = normalizer(w1, a, b)\n",
        "        W2 = normalizer(w2, a, b)\n",
        "        if f(W1) < f(W2): \n",
        "            aw = w2\n",
        "        else: \n",
        "            bw = w1\n",
        "      \n",
        "     \n",
        "        conteo += 1\n",
        "        Lw = bw - aw\n",
        "\n",
        "\n",
        "    # Esto ya es el output\n",
        "    \n",
        "    #print(aw, bw)\n",
        "    Aw = normalizer(aw, a, b)\n",
        "    Bw = normalizer(bw, a, b)\n",
        "    #print(Aw, Bw)\n",
        "    A = \"{0:.3f}\".format(Aw)\n",
        "    B =  \"{0:.3f}\".format(Bw)\n",
        "    evalFF = conteo \n",
        "    return (f\"({A},{B})\\n{evalFF}\")\n"
      ],
      "execution_count": 12,
      "outputs": []
    },
    {
      "cell_type": "code",
      "metadata": {
        "id": "mLK-lnXeLBm2"
      },
      "source": [
        "#a = 0 \n",
        "#b = 3 \n",
        "#epsilon = 0.01\n",
        "#print(sec_dorada(a,b,epsilon))"
      ],
      "execution_count": 13,
      "outputs": []
    },
    {
      "cell_type": "markdown",
      "metadata": {
        "id": "noyyOMp4mbV4"
      },
      "source": [
        "# **Actividad**"
      ]
    },
    {
      "cell_type": "markdown",
      "metadata": {
        "id": "zzsTv7yTSrYf"
      },
      "source": [
        " ## **Ejeo. 1**\n",
        " ---\n",
        "**Usando los métodos anteriores minimice la siguiente\n",
        "función:**\n",
        "\n",
        "> $f(x)$ = 0.65 - [$\\frac{0.75}{1 + x^2}$] - 0.65$\\ast$x$\\ast$$\\tan^{-1}$($\\frac{1}{x}$)\n",
        "\n",
        "**En el intervalo [0, 3]. Se requiere una precisión de 0.001 ($\\epsilon$=0.001)**\n"
      ]
    },
    {
      "cell_type": "markdown",
      "metadata": {
        "id": "xaORbgl-fcvw"
      },
      "source": [
        "### **Evaluando con búsqueda exhaustiva**\n",
        "---"
      ]
    },
    {
      "cell_type": "code",
      "metadata": {
        "colab": {
          "base_uri": "https://localhost:8080/"
        },
        "id": "bW2oqA1wgbVt",
        "outputId": "c61290aa-5da4-40ea-fab3-015e843ecd2a"
      },
      "source": [
        "n = 6000\n",
        "print(busqueda_exhaustiva(a, b, n))\n",
        "# Dada la variable global que implemente para el conteo en esta función, \n",
        "# si se ejecuta esta casilla varias veces, cada vez arrojara que son más evaluaciones. \n",
        "# Recomiendo que si se corre el jupyter, sea todo."
      ],
      "execution_count": 14,
      "outputs": [
        {
          "output_type": "stream",
          "text": [
            "(0.481,0.482)\n",
            "963\n"
          ],
          "name": "stdout"
        }
      ]
    },
    {
      "cell_type": "markdown",
      "metadata": {
        "id": "vfaGDIpxgyOU"
      },
      "source": [
        "### **Evaluando con división de intervalos por la mitad**\n",
        "---"
      ]
    },
    {
      "cell_type": "code",
      "metadata": {
        "colab": {
          "base_uri": "https://localhost:8080/"
        },
        "id": "wte4taMKgjfs",
        "outputId": "8ab71d66-5cf0-4f5a-acb0-b758006a642f"
      },
      "source": [
        "print(div_intervalos(a, b, epsilon))"
      ],
      "execution_count": 15,
      "outputs": [
        {
          "output_type": "stream",
          "text": [
            "(0.480,0.481)\n",
            "25\n"
          ],
          "name": "stdout"
        }
      ]
    },
    {
      "cell_type": "markdown",
      "metadata": {
        "id": "iHJgYXnkhYYX"
      },
      "source": [
        "### **Evaluando con búsqueda fibonacci**\n",
        "---"
      ]
    },
    {
      "cell_type": "code",
      "metadata": {
        "colab": {
          "base_uri": "https://localhost:8080/"
        },
        "id": "Qrr-L5v9hU1_",
        "outputId": "b537dce8-69b4-4974-d459-44ee8b260062"
      },
      "source": [
        "#n=19 -> fibonacci = 4181\n",
        "#n=18 -> fibonacci = 2584\n",
        "#|3000-4181| = 1181\n",
        "#|3000-2584| = 416\n",
        "# Elegimos n = 18 \n",
        "n = 18\n",
        "print(search_fib(a, b, n))\n",
        "#print(search_fib(2, 10, 15))\n"
      ],
      "execution_count": 16,
      "outputs": [
        {
          "output_type": "stream",
          "text": [
            "(0.480,0.481)\n",
            "18\n"
          ],
          "name": "stdout"
        }
      ]
    },
    {
      "cell_type": "markdown",
      "metadata": {
        "id": "-ijN-B2lsc7k"
      },
      "source": [
        "### **Evaluando con sección dorada**\n",
        "---"
      ]
    },
    {
      "cell_type": "code",
      "metadata": {
        "colab": {
          "base_uri": "https://localhost:8080/"
        },
        "id": "B1LR12OVsftz",
        "outputId": "ee18ca61-2a64-4624-9c54-e2eddff97ba5"
      },
      "source": [
        "print(sec_dorada(a,b,epsilon))"
      ],
      "execution_count": 17,
      "outputs": [
        {
          "output_type": "stream",
          "text": [
            "(0.481,0.481)\n",
            "18\n"
          ],
          "name": "stdout"
        }
      ]
    },
    {
      "cell_type": "markdown",
      "metadata": {
        "id": "ifE3zURjzoVi"
      },
      "source": [
        "## **Ejeo. 2** \n",
        "---\n",
        "\n",
        "**Valide sus resultados (número de evaluaciones de $f$) haciendo el cálculo teórico. Muestre todo el procedimiento.**"
      ]
    },
    {
      "cell_type": "markdown",
      "metadata": {
        "id": "mMv-x_6gEN7f"
      },
      "source": [
        "### **Búsqueda Exhaustiva teórico**\n",
        "---\n",
        "Sabemos que los parámeros de entrada para búsqueda exhaustiva son **a**, **b** y **n**.\n",
        "Donde **n** corresponde a las divisiones del intervalo, para obtenerlo hacemos lo siguiente.\n",
        "\n",
        "Dada la formula: \n",
        "\n",
        ">$\\frac{2(b-a)}{n} = \\epsilon$\n",
        "\n",
        " donde: $\\epsilon = 0.001, a = 0, b = 3$\n",
        "\n",
        "Despejamos **n**, sustituimos **a**, **b** y resolvemos:\n",
        "\n",
        "> $n = \\frac{6}{0.001} = 6000$\n",
        "\n",
        "por lo tanto **necesitamos seís mil divisiones** para búsqueda exhaustiva para una precisión de 0.001.\n",
        "\n",
        "> Búsqueda exhaustiva es la única función que recibe un número para hacer las divisiones de intervalos, dicho número se obtiene de la forma anterior, que son 6000, pero tengo entendido que _n_, en el caso de las formulas para los otros métodos, corresponde al número de evaluaciones a la función que se hacen y dichos calculos cuadran con lo que mis funciones retornan. No sé como validar mi resultado haciendo calculo teoríco en el caso de esta función. Lo siento."
      ]
    },
    {
      "cell_type": "markdown",
      "metadata": {
        "id": "0PXbgV-sl7GF"
      },
      "source": [
        "### **División de intervalos por la mitad teórico** \n",
        "---\n",
        "\n",
        "Tenemos: \n",
        "\n",
        "$$\n",
        "(\\frac{1}{2})^\\frac{n}{2} \\ast L_0\n",
        "$$\n",
        "\n",
        "Despejando **n** para obtener el número de evaluaciones dada una precisión $\\epsilon$:\n",
        "$$\n",
        "n = 2 \\ast \\frac{log(\\epsilon/L_0)}{log(1/2)}\n",
        "$$\n",
        "\n",
        "Donde $L_0$ es la longitud del intervalo inicia. \n",
        "\n",
        "Sustituyendo $L_0 = (b-a)$ y $\\epsilon = 0.001$\n",
        "tenemos: \n",
        "\n",
        "$$\n",
        "n = 2 \\ast \\frac{log(0.001/(3-0))}{log(1/2)}\n",
        "= 2 \\ast \\frac{log(0.001/(3))}{log(0.5)} \\approx 23.101 \\approx 23 \n",
        "$$ evaluaciones\n",
        "\n",
        "En nuestro código hemos obtenido **25** $\\neq$ **23**\n",
        "\n"
      ]
    },
    {
      "cell_type": "code",
      "metadata": {
        "colab": {
          "base_uri": "https://localhost:8080/"
        },
        "id": "SbMJfS5QmZMb",
        "outputId": "c87f8fec-1a0c-4433-8b49-ff1cb96187ba"
      },
      "source": [
        "numerador = 2*(math.log(epsilon/(b-a),10))\n",
        "denominador = math.log(1/2,10)\n",
        "# 25\n",
        "print(ceil(numerador/denominador), numerador/denominador)"
      ],
      "execution_count": 18,
      "outputs": [
        {
          "output_type": "stream",
          "text": [
            "24 23.101493570766486\n"
          ],
          "name": "stdout"
        }
      ]
    },
    {
      "cell_type": "markdown",
      "metadata": {
        "id": "Kcnq7rKUy_oG"
      },
      "source": [
        "### **Fibonacci teórico**\n",
        "\n",
        "Para obtener el número de evaluaciones en el caso de Fibonacci hacemos uso del mismo razonamiento usado en \"Evaluando con búsqueda fibonacci\":\n",
        "\n",
        "Sabemos que la longitud final del intervalo para cierto n es: \n",
        "\n",
        "> $\\frac{1}{F_{n}}\\ast L$\n",
        "\n",
        "donde L = (b - a)\n",
        "\n",
        "por lo que si se requiere de una precisión de 0.001\n",
        "hacemos: \n",
        "\n",
        "> $\\frac{(b-a)}{F_{n}} = 0.001$\n",
        "\n",
        "despejamos para $F_{n}$:\n",
        "\n",
        "> $F_{n} = \\frac{(b-a)}{0.001}$\n",
        "\n",
        "sustituyendo el intervalo [a, b]:\n",
        "\n",
        "> $F_{n} = \\frac{(3-0)}{0.001} = 3000$\n",
        "\n",
        "Requerimos que nuestra **n** corresponda\n",
        "al número $\\pm$3000 de la sucesión de fibonacci.\n",
        "Dicho **n** es $n=18$.\n",
        "Por lo que el número de evaluaciones obtenidas con la función **es correcto** ya que para $fibonacci\\_dinamico(n=18)$ obtenemos:\n",
        "\n",
        "\n",
        "$$ fibonacci\\_dinamico(n=18) = [1, 1, 2, 3, 5, 8, 13, 21, 34, 55, 89, 144, 233, 377, 610, 987, 1597, 2584]\n",
        "$$\n"
      ]
    },
    {
      "cell_type": "code",
      "metadata": {
        "colab": {
          "base_uri": "https://localhost:8080/"
        },
        "id": "vofb2TNQWZxM",
        "outputId": "f36eaa2c-b74f-4b94-b211-1e6b816316d8"
      },
      "source": [
        "print(fibonacci_dinamico(18))"
      ],
      "execution_count": 19,
      "outputs": [
        {
          "output_type": "stream",
          "text": [
            "2584\n"
          ],
          "name": "stdout"
        }
      ]
    },
    {
      "cell_type": "markdown",
      "metadata": {
        "id": "NonsKObnxnFq"
      },
      "source": [
        "### **Sección dorada teórico**\n",
        "---\n",
        "\n",
        "Tenemos: \n",
        "$$\n",
        "0.618^{(n-1)} \\ast (b-a)\n",
        "$$\n",
        "Ya que contamos con el valor de $\\epsilon$\n",
        "despejamos **n** para obtener el número de evaluaciones necesarias de la función objetivo. \n",
        "\n",
        "Despejando **n** obtenemos: \n",
        "$$\n",
        "n = \\frac{log_{0.618}(\\epsilon/(b-a))}{log_{0.618}(0.618)}+1\n",
        "$$\n",
        "\n",
        "Sabemos que: $a = 0; b = 3; \\epsilon = 0.001$\n",
        "Sustituyendo tenemos: \n",
        "$$\n",
        "n = \\frac{log_{0.618}(0.001/(3-0))}{log_{0.618}(0.618)}+1 = 17.636026 \\approx 18\n",
        "$$\n",
        "\n"
      ]
    },
    {
      "cell_type": "code",
      "metadata": {
        "colab": {
          "base_uri": "https://localhost:8080/"
        },
        "id": "3ymuMFHUtBJD",
        "outputId": "950d0fc9-cc79-4521-9a04-5686b35ccf6c"
      },
      "source": [
        "# Para Seccion dorada\n",
        "numerador = math.log(epsilon/(b-a),0.618)\n",
        "denominador = math.log(0.618,0.618)\n",
        "result = (numerador/denominador)+1\n",
        "print(math.ceil(result), result)"
      ],
      "execution_count": 20,
      "outputs": [
        {
          "output_type": "stream",
          "text": [
            "18 17.636026440155415\n"
          ],
          "name": "stdout"
        }
      ]
    },
    {
      "cell_type": "markdown",
      "metadata": {
        "id": "O_Vb1a32mgQ_"
      },
      "source": [
        "## Ejeo. 3\n",
        "---\n",
        "\n",
        "**Grafique $f(x)$ en el intervalo $[0, 3]$**"
      ]
    },
    {
      "cell_type": "code",
      "metadata": {
        "id": "8N7Rb1TYkmC6",
        "colab": {
          "base_uri": "https://localhost:8080/",
          "height": 310
        },
        "outputId": "6f68da45-507e-43db-87d4-149745e39b0f"
      },
      "source": [
        "x = np.arange(0.0001,3,0.001) # Sale un mensaje sobre la división por cero\n",
        "# por eso puse mejor 0.0001\n",
        "y = [f(i) for i in x]\n",
        "\n",
        "plt.plot(x,y)\n",
        "plt.xlabel('x')\n",
        "plt.ylabel('y')\n",
        "plt.grid()\n",
        "plt.title('Gráfica de la función\\n0.65-(0.75/(1+x**2))-0.65*x*atan(1/x)')\n",
        "plt.show()"
      ],
      "execution_count": 21,
      "outputs": [
        {
          "output_type": "display_data",
          "data": {
            "image/png": "[encoded data removed]",
            "text/plain": [
              "<Figure size 432x288 with 1 Axes>"
            ]
          },
          "metadata": {
            "tags": [],
            "needs_background": "light"
          }
        }
      ]
    },
    {
      "cell_type": "markdown",
      "metadata": {
        "id": "4GIcI4q2XAkz"
      },
      "source": [
        "![Graficacio.jpg](data:image/jpeg;base64,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)"
      ]
    },
    {
      "cell_type": "markdown",
      "metadata": {
        "id": "yDbcQ-RCoCX9"
      },
      "source": [
        "## Ejeo. 4\n",
        "---\n",
        "**Indique cuál método es el más eficiente y explique por\n",
        "qué.**\n",
        "> Para validar nuestra elección vamos a hacer uso de la reducción fraccional $(RF(N) = \\frac{L_{N}}{L_{0}})$\n",
        "\n",
        "Tenemos entonces las siguientes formulas: \n",
        "\n",
        "- Búsqueda Exhaustiva: $L_{N} = \\frac{2L_{0}}{N}$\n",
        "\n",
        "- División de intervalos por la mitad: $L_{N} = (\\frac{1}{2})^\\frac{N}{2} \\ast L_{0}$\n",
        "\n",
        "- Búsqueda Fibonacci: $L_{N} = \\frac{1}{F_{N}} \\ast L_{0}$\n",
        "\n",
        "- Sección Dorada: $L_{N} = (0.618)^{N-1} \\ast L_{0}$\n",
        "\n",
        "\n",
        "Procedemos a evaluar para $N = 5, 10, 20, 40, 80$\n",
        "\n",
        "**Para N = 5**\n",
        "> Solo efectuaremos el calculo completo de la primer N para cada método, para mostrar el procedimiento. \n",
        "\n",
        "- **Búsqueda Exhaustiva**: \n",
        "\n",
        "Sustituyendo $L_{N} = \\frac{2L_{0}}{N}$ en $(RF(N) = \\frac{L_{N}}{L_{0}})\n",
        "$ para N = 5\n",
        "\n",
        "Tenemos:\n",
        "$$\n",
        "RF(N) = \\frac{\\frac{2L_{0}}{5}}{L_{0}} = \\frac{2L_{0}}{5} \\div \\frac{L_{0}}{1} = \n",
        "\\frac{2L_{0}}{5L_{0}} = \\frac{2}{5} = 0.4\n",
        "$$\n",
        "\n",
        "- **División de intervalos por la mitad**\n",
        "\n",
        "Sustituyendo $L_{N} = (\\frac{1}{2})^\\frac{N}{2} \\ast L_{0}$\n",
        " en $(RF(N) = \\frac{L_{N}}{L_{0}})\n",
        "$ para N = 5\n",
        "\n",
        "Tenemos: \n",
        "$$\n",
        "RF(N) = \\frac{(\\frac{1}{2})^{\\frac{5}{2}} \\ast L_{0}}{L_{0}} = (\\frac{1}{2})^{\\frac{5}{2}} = 0.1767\n",
        "$$\n",
        "\n",
        "- **Búsqueda Fibonacci**\n",
        "\n",
        "Sustituyendo $L_{N} = \\frac{1}{F_{N}} \\ast L_{0}$ en $(RF(N) = \\frac{L_{N}}{L_{0}})\n",
        "$ para N = 5\n",
        "\n",
        "Tenemos: \n",
        "$$\n",
        "RF(N) = \\frac{\\frac{1}{F_{5}} \\ast L_{0}}{L_{0}} = \\frac{1}{F_{5}} = \\frac{1}{8} = 0.125\n",
        "$$\n",
        "\n",
        "- **Sección Dorada**\n",
        "\n",
        "Sustituyendo $L_{N} = (0.618)^{N-1} \\ast L_{0}$ en $(RF(N) = \\frac{L_{N}}{L_{0}})\n",
        "$ para N = 5\n",
        "\n",
        "Tenemos: \n",
        "$$\n",
        "RF(N) = \\frac{(0.618)^{5-1} \\ast L_{0}}{L_{0}} = (0.618)^{4} = 0.1458\n",
        "$$\n",
        "\n",
        "Evaluando para las N's propuestas tenemos: \n",
        "\n",
        "1. Búsqueda Exhaustiva\n",
        "  * N = 10: 0.2\n",
        "  * N = 20: 0.1\n",
        "  * N = 40: 0.05\n",
        "  * N = 80: 0.025\n",
        "2. División de intervalos por la mitad\n",
        "  * N = 10: 0.03125\n",
        "  * N = 20: 0.00097\n",
        "  * N = 40: 9.536e-07\n",
        "  * N = 80: 9.094e-13\n",
        "3. Búsqueda Fibonacci\n",
        "  * N = 10: 0.02941\n",
        "  * N = 20: 2.391e-4\n",
        "  * N = 40: 1.581e-8\n",
        "  * N = 80: 6.909e-17\n",
        "4. Sección dorada\n",
        "  * N = 10: 0.0131\n",
        "  * N = 20: 0.00010\n",
        "  * N = 40: 7.0558e-09\n",
        "  * N = 80: 3.0767e-17\n",
        "\n",
        "\n",
        "> A partir de las evaluaciones anteriores y los resultados teoricos obtenidos, podemos determinar que el método más eficiente corresponde a la sección dorada debido a su crecimiento respecto a N, a saber, conforme N aumente, el costo en tiempo baja considerablemente más frente a los demás métodos. "
      ]
    }
  ]
}